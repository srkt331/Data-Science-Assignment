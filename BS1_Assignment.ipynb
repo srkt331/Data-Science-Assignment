{
  "nbformat": 4,
  "nbformat_minor": 0,
  "metadata": {
    "colab": {
      "provenance": []
    },
    "kernelspec": {
      "name": "python3",
      "display_name": "Python 3"
    },
    "language_info": {
      "name": "python"
    }
  },
  "cells": [
    {
      "cell_type": "markdown",
      "source": [
        "#Question 8"
      ],
      "metadata": {
        "id": "oObh00rIPDYq"
      }
    },
    {
      "cell_type": "code",
      "source": [
        "# Given weights\n",
        "weights = [108, 110, 123, 134, 135, 145, 167, 187, 199]\n",
        "\n",
        "# Calculate the expected value (mean)\n",
        "expected_value = sum(weights) / len(weights)\n",
        "\n",
        "print(\"Expected Value of the Weight of a randomly chosen patient:\", expected_value)"
      ],
      "metadata": {
        "colab": {
          "base_uri": "https://localhost:8080/"
        },
        "id": "JCyTbOjzPDAA",
        "outputId": "6f222ee3-8420-46a6-9036-dd93111a43bb"
      },
      "execution_count": null,
      "outputs": [
        {
          "output_type": "stream",
          "name": "stdout",
          "text": [
            "Expected Value of the Weight of a randomly chosen patient: 145.33333333333334\n"
          ]
        }
      ]
    },
    {
      "cell_type": "markdown",
      "source": [
        "#Question 11"
      ],
      "metadata": {
        "id": "9pqrXO3EJfuh"
      }
    },
    {
      "cell_type": "code",
      "execution_count": null,
      "metadata": {
        "id": "3dYFeUS_2A-2"
      },
      "outputs": [],
      "source": [
        "from scipy import stats"
      ]
    },
    {
      "cell_type": "code",
      "source": [
        "stats.t.interval(0.94, 1999, 200, 30)"
      ],
      "metadata": {
        "colab": {
          "base_uri": "https://localhost:8080/"
        },
        "id": "wiIt1YpWufEl",
        "outputId": "68eb3a11-c20f-471a-c33c-641ca7671192"
      },
      "execution_count": null,
      "outputs": [
        {
          "output_type": "execute_result",
          "data": {
            "text/plain": [
              "(143.54415570565965, 256.45584429434035)"
            ]
          },
          "metadata": {},
          "execution_count": 10
        }
      ]
    },
    {
      "cell_type": "code",
      "source": [
        "stats.t.interval(0.96, 1999, 200, 30)"
      ],
      "metadata": {
        "colab": {
          "base_uri": "https://localhost:8080/"
        },
        "id": "5TyTQV_B1y4k",
        "outputId": "9d9bf378-e81c-41a3-87d1-6df484657133"
      },
      "execution_count": null,
      "outputs": [
        {
          "output_type": "execute_result",
          "data": {
            "text/plain": [
              "(138.34730111522666, 261.6526988847733)"
            ]
          },
          "metadata": {},
          "execution_count": 11
        }
      ]
    },
    {
      "cell_type": "code",
      "source": [
        "stats.t.interval(0.98, 1999, 200, 30)"
      ],
      "metadata": {
        "colab": {
          "base_uri": "https://localhost:8080/"
        },
        "id": "kwLsIgqx10yt",
        "outputId": "bafadf15-3386-45bb-a0a3-3d697a48f0f0"
      },
      "execution_count": null,
      "outputs": [
        {
          "output_type": "execute_result",
          "data": {
            "text/plain": [
              "(130.15355671679083, 269.84644328320917)"
            ]
          },
          "metadata": {},
          "execution_count": 12
        }
      ]
    },
    {
      "cell_type": "markdown",
      "source": [
        "#Question 21"
      ],
      "metadata": {
        "id": "kGzKiECjQM_a"
      }
    },
    {
      "cell_type": "markdown",
      "source": [
        "#A"
      ],
      "metadata": {
        "id": "zUu_0FhPRESn"
      }
    },
    {
      "cell_type": "code",
      "source": [
        "import pandas as pd\n",
        "from scipy import stats"
      ],
      "metadata": {
        "id": "qonGdb0MQMtR"
      },
      "execution_count": null,
      "outputs": []
    },
    {
      "cell_type": "code",
      "source": [
        "# Load the dataset\n",
        "df = pd.read_csv('Cars.csv')"
      ],
      "metadata": {
        "id": "UUxPJ2t4QemJ"
      },
      "execution_count": null,
      "outputs": []
    },
    {
      "cell_type": "code",
      "source": [
        "# Extract MPG data\n",
        "mpg_data = df['MPG']"
      ],
      "metadata": {
        "id": "8hgFlMPYQeid"
      },
      "execution_count": null,
      "outputs": []
    },
    {
      "cell_type": "code",
      "source": [
        "# Perform normality test\n",
        "def test_normality(data, alpha=0.05):\n",
        "    _, p_value = stats.normaltest(data)\n",
        "    if p_value < alpha:\n",
        "        print(\"The data does not follow a normal distribution (reject H0)\")\n",
        "    else:\n",
        "        print(\"The data follows a normal distribution (fail to reject H0)\")"
      ],
      "metadata": {
        "id": "GfQgguw3QpVG"
      },
      "execution_count": null,
      "outputs": []
    },
    {
      "cell_type": "code",
      "source": [
        "# Perform normality test on MPG data\n",
        "print(\"Normality test for MPG data:\")\n",
        "test_normality(mpg_data)"
      ],
      "metadata": {
        "colab": {
          "base_uri": "https://localhost:8080/"
        },
        "id": "oMxCff89Qecl",
        "outputId": "85d1079b-5669-419b-d3a1-8300885d433b"
      },
      "execution_count": null,
      "outputs": [
        {
          "output_type": "stream",
          "name": "stdout",
          "text": [
            "Normality test for MPG data:\n",
            "The data follows a normal distribution (fail to reject H0)\n"
          ]
        }
      ]
    },
    {
      "cell_type": "markdown",
      "source": [
        "#B"
      ],
      "metadata": {
        "id": "f6FVfNQURISb"
      }
    },
    {
      "cell_type": "code",
      "source": [
        "import pandas as pd\n",
        "import matplotlib.pyplot as plt\n",
        "from scipy.stats import shapiro"
      ],
      "metadata": {
        "id": "4bLOzagkRKGl"
      },
      "execution_count": null,
      "outputs": []
    },
    {
      "cell_type": "code",
      "source": [
        "# Load the dataset\n",
        "data = pd.read_csv('wc-at.csv')"
      ],
      "metadata": {
        "id": "Lay5JkWaRKBM"
      },
      "execution_count": null,
      "outputs": []
    },
    {
      "cell_type": "code",
      "source": [
        "# Extract AT and Waist columns\n",
        "AT_data = data['AT']\n",
        "Waist_data = data['Waist']"
      ],
      "metadata": {
        "id": "HciDrS0iRZSK"
      },
      "execution_count": null,
      "outputs": []
    },
    {
      "cell_type": "code",
      "source": [
        "# Plot histograms for visual inspection\n",
        "plt.figure(figsize=(10, 5))"
      ],
      "metadata": {
        "colab": {
          "base_uri": "https://localhost:8080/",
          "height": 53
        },
        "id": "Gm2bbT4KRZG7",
        "outputId": "f9be03f9-1546-42d8-8926-a8c9dee77850"
      },
      "execution_count": null,
      "outputs": [
        {
          "output_type": "execute_result",
          "data": {
            "text/plain": [
              "<Figure size 1000x500 with 0 Axes>"
            ]
          },
          "metadata": {},
          "execution_count": 10
        },
        {
          "output_type": "display_data",
          "data": {
            "text/plain": [
              "<Figure size 1000x500 with 0 Axes>"
            ]
          },
          "metadata": {}
        }
      ]
    },
    {
      "cell_type": "code",
      "source": [
        "plt.subplot(1, 2, 1)\n",
        "plt.hist(AT_data, bins=20, color='skyblue', edgecolor='black')\n",
        "plt.title('Adipose Tissue (AT)')\n",
        "plt.xlabel('AT')\n",
        "plt.ylabel('Frequency')"
      ],
      "metadata": {
        "colab": {
          "base_uri": "https://localhost:8080/",
          "height": 490
        },
        "id": "SxT_RKwhRJ9W",
        "outputId": "24bffcbf-29d0-498f-9c59-3dd5de7b11bc"
      },
      "execution_count": null,
      "outputs": [
        {
          "output_type": "execute_result",
          "data": {
            "text/plain": [
              "Text(0, 0.5, 'Frequency')"
            ]
          },
          "metadata": {},
          "execution_count": 11
        },
        {
          "output_type": "display_data",
          "data": {
            "text/plain": [
              "<Figure size 640x480 with 1 Axes>"
            ],
            "image/png": "[encoded data removed]"
          },
          "metadata": {}
        }
      ]
    },
    {
      "cell_type": "code",
      "source": [
        "plt.subplot(1, 2, 2)\n",
        "plt.hist(Waist_data, bins=20, color='lightgreen', edgecolor='black')\n",
        "plt.title('Waist Circumference (Waist)')\n",
        "plt.xlabel('Waist')\n",
        "plt.ylabel('Frequency')"
      ],
      "metadata": {
        "colab": {
          "base_uri": "https://localhost:8080/",
          "height": 490
        },
        "id": "ktavWP5hRJ34",
        "outputId": "0fedf553-757f-4c01-e966-0a4839151965"
      },
      "execution_count": null,
      "outputs": [
        {
          "output_type": "execute_result",
          "data": {
            "text/plain": [
              "Text(0, 0.5, 'Frequency')"
            ]
          },
          "metadata": {},
          "execution_count": 12
        },
        {
          "output_type": "display_data",
          "data": {
            "text/plain": [
              "<Figure size 640x480 with 1 Axes>"
            ],
            "image/png": "[encoded data removed]"
          },
          "metadata": {}
        }
      ]
    },
    {
      "cell_type": "code",
      "source": [
        "plt.tight_layout()\n",
        "plt.show()"
      ],
      "metadata": {
        "colab": {
          "base_uri": "https://localhost:8080/",
          "height": 35
        },
        "id": "ivCUqCOvRo2q",
        "outputId": "4fe8086a-425a-4f2c-ab23-b32377c19f8f"
      },
      "execution_count": null,
      "outputs": [
        {
          "output_type": "display_data",
          "data": {
            "text/plain": [
              "<Figure size 640x480 with 0 Axes>"
            ]
          },
          "metadata": {}
        }
      ]
    },
    {
      "cell_type": "code",
      "source": [
        "# Perform Shapiro-Wilk test for normality\n",
        "shapiro_AT = shapiro(AT_data)\n",
        "shapiro_Waist = shapiro(Waist_data)"
      ],
      "metadata": {
        "id": "Wm1Iu1v-RsPY"
      },
      "execution_count": null,
      "outputs": []
    },
    {
      "cell_type": "code",
      "source": [
        "print(\"Shapiro-Wilk test results for Adipose Tissue (AT):\")\n",
        "print(\"Statistic:\", shapiro_AT.statistic)\n",
        "print(\"p-value:\", shapiro_AT.pvalue)\n",
        "if shapiro_AT.pvalue > 0.05:\n",
        "    print(\"AT data follows a normal distribution.\")\n",
        "else:\n",
        "    print(\"AT data does not follow a normal distribution.\")\n",
        "\n",
        "print(\"\\nShapiro-Wilk test results for Waist Circumference (Waist):\")\n",
        "print(\"Statistic:\", shapiro_Waist.statistic)\n",
        "print(\"p-value:\", shapiro_Waist.pvalue)\n",
        "if shapiro_Waist.pvalue > 0.05:\n",
        "    print(\"Waist data follows a normal distribution.\")\n",
        "else:\n",
        "    print(\"Waist data does not follow a normal distribution.\")"
      ],
      "metadata": {
        "colab": {
          "base_uri": "https://localhost:8080/"
        },
        "id": "Ju0dQ7HLRr7U",
        "outputId": "41e9f061-d2cb-4b63-adfa-9a72d81afa54"
      },
      "execution_count": null,
      "outputs": [
        {
          "output_type": "stream",
          "name": "stdout",
          "text": [
            "Shapiro-Wilk test results for Adipose Tissue (AT):\n",
            "Statistic: 0.9523370862007141\n",
            "p-value: 0.0006539996829815209\n",
            "AT data does not follow a normal distribution.\n",
            "\n",
            "Shapiro-Wilk test results for Waist Circumference (Waist):\n",
            "Statistic: 0.9558579921722412\n",
            "p-value: 0.0011704873759299517\n",
            "Waist data does not follow a normal distribution.\n"
          ]
        }
      ]
    },
    {
      "cell_type": "markdown",
      "source": [
        "#Question 22"
      ],
      "metadata": {
        "id": "Hip5uFJSJ1ds"
      }
    },
    {
      "cell_type": "code",
      "source": [
        "stats.norm.ppf(0.95)"
      ],
      "metadata": {
        "colab": {
          "base_uri": "https://localhost:8080/"
        },
        "id": "GpXIP0dW30w3",
        "outputId": "363a57af-7c89-4d12-d297-131e70c11a80"
      },
      "execution_count": null,
      "outputs": [
        {
          "output_type": "execute_result",
          "data": {
            "text/plain": [
              "1.6448536269514722"
            ]
          },
          "metadata": {},
          "execution_count": 14
        }
      ]
    },
    {
      "cell_type": "code",
      "source": [
        "stats.norm.ppf(0.97)"
      ],
      "metadata": {
        "colab": {
          "base_uri": "https://localhost:8080/"
        },
        "id": "kLxUIqGN31ay",
        "outputId": "bf4660db-c9a0-495e-bafc-43ce3d09f6b1"
      },
      "execution_count": null,
      "outputs": [
        {
          "output_type": "execute_result",
          "data": {
            "text/plain": [
              "1.8807936081512509"
            ]
          },
          "metadata": {},
          "execution_count": 15
        }
      ]
    },
    {
      "cell_type": "code",
      "source": [
        "stats.norm.ppf(0.80)"
      ],
      "metadata": {
        "colab": {
          "base_uri": "https://localhost:8080/"
        },
        "id": "T6i5eDZ2310A",
        "outputId": "50d494e0-4ba7-41d7-de7d-753546553970"
      },
      "execution_count": null,
      "outputs": [
        {
          "output_type": "execute_result",
          "data": {
            "text/plain": [
              "0.8416212335729143"
            ]
          },
          "metadata": {},
          "execution_count": 16
        }
      ]
    },
    {
      "cell_type": "markdown",
      "source": [
        "#Question 23"
      ],
      "metadata": {
        "id": "fgWCqzuqKAJs"
      }
    },
    {
      "cell_type": "code",
      "source": [
        "stats.t.ppf(0.975,24)"
      ],
      "metadata": {
        "colab": {
          "base_uri": "https://localhost:8080/"
        },
        "id": "Y24gV_ww32Nd",
        "outputId": "fd315f5c-e00e-47eb-ea0e-1d6acf2ef2a1"
      },
      "execution_count": null,
      "outputs": [
        {
          "output_type": "execute_result",
          "data": {
            "text/plain": [
              "2.0638985616280205"
            ]
          },
          "metadata": {},
          "execution_count": 17
        }
      ]
    },
    {
      "cell_type": "code",
      "source": [
        "stats.t.ppf(0.98,24)"
      ],
      "metadata": {
        "colab": {
          "base_uri": "https://localhost:8080/"
        },
        "id": "DOO4W7b732jd",
        "outputId": "a9dc44fd-e7df-4bdf-ee32-e217fa288b98"
      },
      "execution_count": null,
      "outputs": [
        {
          "output_type": "execute_result",
          "data": {
            "text/plain": [
              "2.1715446760080677"
            ]
          },
          "metadata": {},
          "execution_count": 18
        }
      ]
    },
    {
      "cell_type": "code",
      "source": [
        "stats.t.ppf(0.995,24)"
      ],
      "metadata": {
        "colab": {
          "base_uri": "https://localhost:8080/"
        },
        "id": "G6ey5qNp5GnG",
        "outputId": "7bed530f-c7cb-45b8-e5b7-e9d93e4644ce"
      },
      "execution_count": null,
      "outputs": [
        {
          "output_type": "execute_result",
          "data": {
            "text/plain": [
              "2.796939504772804"
            ]
          },
          "metadata": {},
          "execution_count": 19
        }
      ]
    },
    {
      "cell_type": "markdown",
      "source": [
        "#Question 24"
      ],
      "metadata": {
        "id": "B-Bn00vWSrc7"
      }
    },
    {
      "cell_type": "code",
      "source": [
        "from scipy.stats import t"
      ],
      "metadata": {
        "id": "VX6R8sfQSvjj"
      },
      "execution_count": null,
      "outputs": []
    },
    {
      "cell_type": "code",
      "source": [
        "# Given data\n",
        "sample_mean = 260  # sample mean\n",
        "population_mean = 270  # population mean claimed by CEO\n",
        "sample_std = 90  # sample standard deviation\n",
        "sample_size = 18  # sample size"
      ],
      "metadata": {
        "id": "WjFR_wL6S9PR"
      },
      "execution_count": null,
      "outputs": []
    },
    {
      "cell_type": "code",
      "source": [
        "# Calculate the t-score\n",
        "t_score = (sample_mean - population_mean) / (sample_std / (sample_size ** 0.5))"
      ],
      "metadata": {
        "id": "WLMzE9U8TAW3"
      },
      "execution_count": null,
      "outputs": []
    },
    {
      "cell_type": "code",
      "source": [
        "# Degrees of freedom\n",
        "df = sample_size - 1"
      ],
      "metadata": {
        "id": "bzlI-V3FTDwr"
      },
      "execution_count": null,
      "outputs": []
    },
    {
      "cell_type": "code",
      "source": [
        "# Calculate the probability using cumulative distribution function (CDF)\n",
        "probability = t.cdf(t_score, df)\n",
        "\n",
        "print(\"Probability that 18 randomly selected bulbs would have an average life of no more than 260 days:\", probability)"
      ],
      "metadata": {
        "colab": {
          "base_uri": "https://localhost:8080/"
        },
        "id": "nmnr3kBQTGFX",
        "outputId": "c97b7267-fe44-4864-af22-5c078fe3858c"
      },
      "execution_count": null,
      "outputs": [
        {
          "output_type": "stream",
          "name": "stdout",
          "text": [
            "Probability that 18 randomly selected bulbs would have an average life of no more than 260 days: 0.32167253567098364\n"
          ]
        }
      ]
    }
  ]
}